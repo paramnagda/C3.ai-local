{
  "nbformat": 4,
  "nbformat_minor": 0,
  "metadata": {
    "colab": {
      "name": "Sora_Rithwik_Tyler.ipynb",
      "private_outputs": true,
      "provenance": [],
      "collapsed_sections": []
    },
    "kernelspec": {
      "display_name": "Python 3",
      "language": "python",
      "name": "python3"
    },
    "language_info": {
      "codemirror_mode": {
        "name": "ipython",
        "version": 3
      },
      "file_extension": ".py",
      "mimetype": "text/x-python",
      "name": "python",
      "nbconvert_exporter": "python",
      "pygments_lexer": "ipython3",
      "version": "3.8.5"
    }
  },
  "cells": [
    {
      "cell_type": "code",
      "metadata": {
        "id": "6FNqVPqZor8O"
      },
      "source": [
        "import requests\n",
        "import pandas as pd\n",
        "from matplotlib import pyplot as plt\n",
        "from scipy.stats import gamma\n",
        "from sklearn import linear_model\n",
        "import numpy as np\n",
        "from datetime import datetime\n",
        "import math"
      ],
      "execution_count": null,
      "outputs": []
    },
    {
      "cell_type": "code",
      "metadata": {
        "id": "8z8XncOB42tx"
      },
      "source": [
        "import c3aidatalake"
      ],
      "execution_count": null,
      "outputs": []
    },
    {
      "cell_type": "code",
      "metadata": {
        "id": "lKEyNzLB87l2"
      },
      "source": [
        "# Returns datetime object of the given date string\n",
        "# Compare dates with >, <, or ==\n",
        "def timeFormat(s):\n",
        "    if str(s) == \"nan\":\n",
        "        return s\n",
        "    else:\n",
        "        return datetime.strptime(s, \"%Y-%m-%dT%H:%M:%SZ\")\n",
        "\n",
        "# Returns float timestamp (seconds since 1 Jan 1970)\n",
        "# Compare timestamps with >, <, or ==\n",
        "def timestampFormat(s):\n",
        "    if str(s) == \"nan\":\n",
        "        return s\n",
        "    else:\n",
        "        return timeFormat(s).timestamp()\n",
        "\n",
        "# How to convert column of date strings to these above formats:\n",
        "# DFtimeFormat(dataframe name, string of column header which contains the time strings)\n",
        "def DFtimeFormat(df, column_of_timestrings):\n",
        "    df[column_of_timestrings] = df[column_of_timestrings].apply(timeFormat)\n",
        "    return"
      ],
      "execution_count": null,
      "outputs": []
    },
    {
      "cell_type": "code",
      "metadata": {
        "id": "Dy6zIMzOS_bR"
      },
      "source": [
        "# fetching state policies\n",
        "statePolicies = c3aidatalake.fetch(\n",
        "    \"locationpolicysummary\", \n",
        "    {\n",
        "        \"spec\" : {\n",
        "            \"limit\" : -1\n",
        "        }\n",
        "    }).drop(44)"
      ],
      "execution_count": null,
      "outputs": []
    },
    {
      "cell_type": "markdown",
      "metadata": {
        "id": "Ilwd4NZ3UiZF"
      },
      "source": [
        "Generating numerical columns from statePolicies:"
      ]
    },
    {
      "cell_type": "code",
      "metadata": {
        "id": "ZMR1jSGRUz4w"
      },
      "source": [
        "# dicts used to quantify governemnt policy by restrictiveness \n",
        "# (0 - not restrictive -> higher - more restrictive)\n",
        "quantifyDicts = {}\n",
        "quantifyDicts[\"easingOrder\"] = {\n",
        "    \"Reopened\" : 0, \n",
        "    \"Proceeding with Reopening\" : 1,\n",
        "    \"Paused\" : 2, \n",
        "    \"New Restrictions Imposed\" : 3\n",
        "}\n",
        "quantifyDicts[\"stayAtHome\"] = {\n",
        "    \"No Action\" : 0,\n",
        "    \"Lifted\" : 0,\n",
        "    \"Rolled Back to High Risk Groups\" : 1,\n",
        "    \"New Stay at Home Order\" : 2,\n",
        "    \"Statewide\" : 2\n",
        "}\n",
        "quantifyDicts[\"mandatoryQuarantine\"]  = {\n",
        "    \"No Action\" : 0,\n",
        "    \"Lifted\" : 0,\n",
        "    \"From Certain States (New)\" : 1,\n",
        "    \"Rolled Back to Certain States\" : 1,\n",
        "    \"From Certain States\" : 1,\n",
        "    \"Rolled Back to International Travel\" : 2,\n",
        "    \"All Travelers\" : 3\n",
        "}\n",
        "quantifyDicts[\"nonEssentialBusiness\"] = {\n",
        "    \"No Action\" : 0,\n",
        "    \"All Non-Essential Businesses Permitted to Reopen\" : 0,\n",
        "    \"Some Non-Essential Businesses Permitted to Reopen\" : 1,\n",
        "    \"All Non-Essential Businesses Permitted to Reopen with Reduced Capacity\" : 1,\n",
        "    \"Some Non-Essential Businesses Permitted to Reopen with Reduced Capacity\" : 2,\n",
        "    \"New Business Closures or Limits\" : 3\n",
        "}\n",
        "quantifyDicts[\"largeGatherings\"] = {\n",
        "    \"Lifted\" : 0,\n",
        "    \"No Action\" : 0,\n",
        "    \"Expanded to New Limit Above 25\" : 1,\n",
        "    \"New Limit on Large Gatherings in Place\" : 1,\n",
        "    \"Expanded to New Limit of 25 or Fewer\" : 2,\n",
        "    \">10 People Prohibited\" : 3,\n",
        "    \"All Gatherings Prohibited\" : 4\n",
        "}\n",
        "quantifyDicts[\"schoolClosure\"] = {\n",
        "    \"Rescinded\" : 0,\n",
        "    \"Recommended Closure for School Year\" : 1,\n",
        "    \"Recommended Closure\" : 2,\n",
        "    \"Closed for School Year\" : 3,\n",
        "    \"Closed\" : 4\n",
        "}\n",
        "quantifyDicts[\"restaurantLimit\"] = {\n",
        "    \"No Action\" : 0,\n",
        "    \"Reopened to Dine-in Service\" : 1,\n",
        "    \"Reopened to Dine-in Service with Capacity Limits\" : 2,\n",
        "    \"New Service Limits\" : 3,\n",
        "    \"Newly Closed to Dine-in Service\" : 3\n",
        "}\n",
        "quantifyDicts[\"barClosures\"] = {\n",
        "    \"Reopened\" : 0,\n",
        "    \"New Service Limits\" : 1,\n",
        "    \"Closed\" : 2,\n",
        "    \"Newly Closed\" : 2\n",
        "}\n",
        "quantifyDicts[\"faceCoveringRequirement\"] = {\n",
        "    \"No\" : 0,\n",
        "    \"Required for Certain Employees\" : 1,\n",
        "    \"Allows Local Officals to Require for General Public\" : 1,\n",
        "    \"Required for Certain Employees; Allows Local Officials to Require for General Public\" : 1,\n",
        "    \"Required for General Public\" : 2\n",
        "}\n",
        "quantifyDicts[\"PrimaryElectionPostponement\"] = {\n",
        "    \"No\" : 0,\n",
        "    \"Postponed\" : 1,\n",
        "    \"Canceled\" : 2\n",
        "}\n",
        "quantifyDicts[\"emergencyDeclaration\"] = {\n",
        "    \"Yes\" : 0\n",
        "}\n",
        "quantifyDicts[\"waiveTreatmentCost\"]  = {\n",
        "    \"No Action\" : 0,\n",
        "    \"State-Insurer Agreement\" : 1,\n",
        "    \"State Requires\" : 2\n",
        "}  \n",
        "quantifyDicts[\"freeVaccine\"] = {\n",
        "    \"No Action\" : 0,\n",
        "    \"State-Insurer Agreement\" : 1,\n",
        "    \"State Requires\" : 2\n",
        "}\n",
        "quantifyDicts[\"waiverOfPriorAuthorizationRequirements\"] = {\n",
        "    \"No Action\" : 0,\n",
        "    \"For COVID-19 Testing\" : 1,\n",
        "    \"For COVID-19 Testing and Treatment\" : 2\n",
        "}\n",
        "quantifyDicts[\"prescriptionRefill\"] = {\n",
        "    \"No Action\" : 0,\n",
        "    \"Expired\" : 1,\n",
        "    \"State Requires\" : 2\n",
        "}\n",
        "quantifyDicts[\"premiumPaymentGracePeriod\"] = {\n",
        "    \"No Action\" : 0,\n",
        "    \"Expired\" : 1,\n",
        "    \"COVID-19 Diagnosis/Impacts Only\" : 2,\n",
        "    \"Grace Period Extended for All Individual Policies\" : 3,\n",
        "    \"All Policies\" : 4\n",
        "}\n",
        "quantifyDicts[\"marketplaceSpecialEnrollmentPeriod\"] = {\n",
        "    \"No\" : 0,\n",
        "    \"Ended\" : 1,\n",
        "    \"Active\" : 2\n",
        "}\n",
        "quantifyDicts[\"section1135Waiver\"] = {\n",
        "    \"Unapproved\" : 0,\n",
        "    \"Approved\" : 1\n",
        "}\n",
        "quantifyDicts[\"paidSickLeaves\"] = {\n",
        "    \"No Action\" : 0,\n",
        "    \"Proposed - March 2020\" : 1,\n",
        "    \"Enacted\" : 2\n",
        "}\n",
        "quantifyDicts[\"expandsAccesstoTelehealthServices\"] = {\n",
        "    \"No\" : 0,\n",
        "    \"Yes\" : 1\n",
        "}"
      ],
      "execution_count": null,
      "outputs": []
    },
    {
      "cell_type": "code",
      "metadata": {
        "id": "S64Eg_rJ3l0R"
      },
      "source": [
        "# generates mapper for each column using dicts defined above\n",
        "def mapperGenerator(colName):\n",
        "    if colName in quantifyDicts.keys():\n",
        "        def mapper(val):\n",
        "            return quantifyDicts[colName][val]\n",
        "    else:\n",
        "        def mapper(val):\n",
        "            return val\n",
        "    return mapper"
      ],
      "execution_count": null,
      "outputs": []
    },
    {
      "cell_type": "code",
      "metadata": {
        "id": "RDWW33sG87l2"
      },
      "source": [
        "# read in stategdp info\n",
        "# adding quarter 2 gdp change as a column to statepolicies\n",
        "import re\n",
        "stategdp = pd.read_excel(io = \"qgdpstate1020_0.xlsx\", index_col = 0, header = 1)\n",
        "Q2GDPChange = []\n",
        "for id in statePolicies[\"id\"]:\n",
        "    m = re.match(r\"(.+)_UnitedStates_Policy$\", id)\n",
        "    Q2GDPChange.append(stategdp[\"2020Q2\"][m[1]])\n",
        "statePolicies.insert(len(statePolicies.columns), \"Q2GDPChange\", Q2GDPChange)"
      ],
      "execution_count": null,
      "outputs": []
    },
    {
      "cell_type": "code",
      "metadata": {
        "id": "9fZ4DGZ587l2"
      },
      "source": [
        "# converting state policies time stamps\n",
        "DFtimeFormat(statePolicies, \"lastSavedTimestamp\")"
      ],
      "execution_count": null,
      "outputs": []
    },
    {
      "cell_type": "code",
      "metadata": {
        "id": "ZJFzzD0w87l2"
      },
      "source": [
        "# Q2END is comparison datetime object to find policies implemented before end of 2nd quarter\n",
        "Q2END = datetime(2020, 7, 1)\n",
        "# columns to be used in relevantPolicies\n",
        "newColumns = ['id', 'easingOrder', 'stayAtHome', 'mandatoryQuarantine', 'nonEssentialBusiness', 'largeGatherings', \n",
        "              'schoolClosure', 'restaurantLimit', 'barClosures', 'faceCoveringRequirement']"
      ],
      "execution_count": null,
      "outputs": []
    },
    {
      "cell_type": "code",
      "metadata": {
        "id": "-OoZSYq087l2"
      },
      "source": [
        "# columns are newColumns + versionDate + Q2GDPChange\n",
        "# create new data frame\n",
        "# for each state in statePolicies, try to access relevant dates, or use info from statePolicies\n",
        "# append to data frame\n",
        "relevantPolicies = []\n",
        "for i in statePolicies.index:\n",
        "    data = []\n",
        "    try:\n",
        "        allStateVersions = c3aidatalake.read_data_json(\n",
        "            \"locationpolicysummary\",\n",
        "            \"allversionsforpolicy\",\n",
        "            body = {\n",
        "                \"this\" : {\n",
        "                    \"id\" : statePolicies[\"id\"][i]\n",
        "                }\n",
        "            }\n",
        "        )\n",
        "        allStateVersions = pd.json_normalize(allStateVersions)\n",
        "        DFtimeFormat(allStateVersions, \"versionDate\")\n",
        "        relevantPolicyFound = False\n",
        "        for ind in allStateVersions.index:\n",
        "            if allStateVersions[\"versionDate\"][ind] < Q2END:\n",
        "                data = [allStateVersions[col][ind] for col in newColumns]\n",
        "                data.append(allStateVersions[\"versionDate\"][ind])\n",
        "                relevantPolicyFound = True\n",
        "                break\n",
        "        if not relevantPolicyFound:\n",
        "            raise \n",
        "    except:\n",
        "        data = [statePolicies[col][i] for col in newColumns]\n",
        "        data.append(statePolicies[\"lastSavedTimestamp\"][i])\n",
        "    data.append(statePolicies[\"Q2GDPChange\"][i])\n",
        "    relevantPolicies.append(data)\n",
        "relevantPolicies = pd.DataFrame(relevantPolicies, columns = newColumns + [\"versionDate\", \"Q2GDPChange\"])"
      ],
      "execution_count": null,
      "outputs": []
    },
    {
      "cell_type": "code",
      "metadata": {
        "id": "LrdDv68687l2"
      },
      "source": [
        "# independent variables for multiple linear regression\n",
        "xVars = ['easingOrder', 'stayAtHome', 'mandatoryQuarantine', 'nonEssentialBusiness', 'largeGatherings', \n",
        "         'schoolClosure', 'restaurantLimit', 'barClosures', 'faceCoveringRequirement']"
      ],
      "execution_count": null,
      "outputs": []
    },
    {
      "cell_type": "code",
      "metadata": {
        "id": "ONkEj7XN87l2"
      },
      "source": [
        "# quantify relevantPolicies\n",
        "for col in relevantPolicies.columns:\n",
        "    mper = mapperGenerator(col)\n",
        "    relevantPolicies[col] = relevantPolicies[col].apply(mper)"
      ],
      "execution_count": null,
      "outputs": []
    },
    {
      "cell_type": "code",
      "metadata": {
        "id": "SiIZ0bep87l2"
      },
      "source": [
        "relevantX = relevantPolicies[xVars]\n",
        "relevantY = relevantPolicies[\"Q2GDPChange\"]\n",
        "relevantRegr = linear_model.LinearRegression()\n",
        "relevantRegr.fit(relevantX, relevantY)\n",
        "for i in range(len(xVars)):\n",
        "    print(\"Coefficient of \", xVars[i], \": \", relevantRegr.coef_[i])\n",
        "print(\"Intercept: \", relevantRegr.intercept_)\n",
        "print(\"R^2: \", relevantRegr.score(relevantX, relevantY))\n",
        "\n",
        "\n",
        "plt.xticks(rotation='vertical')\n",
        "pyplot.bar([x for x in range(len(relevantRegr.coef_))], relevantRegr.coef_, tick_label=xVars)\n",
        "pyplot.show()"
      ],
      "execution_count": null,
      "outputs": []
    },
    {
      "cell_type": "code",
      "metadata": {
        "id": "Rzh5YeQ1wr_R"
      },
      "source": [
        "# Correlations of relevant policies with GDP change\n",
        "plt.title(\"Policies to GDP Correlations\")\n",
        "plt.xticks(rotation='vertical')\n",
        "labels=['easingOrder', 'stayAtHome', 'mandatoryQuarantine',\n",
        "       'nonEssentialBusiness', 'largeGatherings', 'schoolClosure',\n",
        "       'restaurantLimit', 'barClosures', 'faceCoveringRequirement', 'restrictivenessMeasure']\n",
        "pyplot.bar([x for x in range(len(labels))], relevantPolicies.corr()[\"Q2GDPChange\"].drop(\"Q2GDPChange\"), tick_label=labels)\n",
        "pyplot.show()"
      ],
      "execution_count": null,
      "outputs": []
    },
    {
      "cell_type": "code",
      "metadata": {
        "id": "Bg7fLD_387l2"
      },
      "source": [
        "# Number of trials to fit model and average over\n",
        "FITS = 100\n",
        "\n",
        "# decision tree for feature importance on a regression problem\n",
        "from sklearn.datasets import make_regression\n",
        "from sklearn.tree import DecisionTreeRegressor\n",
        "from matplotlib import pyplot\n",
        "# define dataset\n",
        "X, y = relevantX, relevantY\n",
        "\n",
        "# define the model\n",
        "model = DecisionTreeRegressor(max_depth=4)\n",
        "# fit the model\n",
        "avg_importance = [0 for x in range(len(xVars))]\n",
        "for i in range(FITS):\n",
        "\tmodel.fit(X, y)\n",
        "\tavg_importance += model.feature_importances_\n",
        "\n",
        "avg_importance /= FITS\n",
        "\n",
        "# summarize feature importance\n",
        "for i,v in enumerate(avg_importance):\n",
        "\tprint(xVars[i], v)\n",
        "\n",
        "print(\"Intercept: \", model.predict([[0 for x in range(len(xVars))]])[0])\n",
        "print(\"R^2: \", model.score(X,y))"
      ],
      "execution_count": null,
      "outputs": []
    },
    {
      "cell_type": "code",
      "metadata": {
        "id": "-u44vHiW87l3"
      },
      "source": [
        "# Number of trials to fit model and average over\n",
        "FITS = 100\n",
        "# random forest for feature importance on a regression problem\n",
        "from sklearn.datasets import make_regression\n",
        "from sklearn.ensemble import RandomForestRegressor\n",
        "from matplotlib import pyplot\n",
        "# define dataset\n",
        "X, y = relevantX, relevantY\n",
        "# define the model\n",
        "model = RandomForestRegressor(max_depth=6)\n",
        "# fit the model\n",
        "avg_importance2 = [0 for x in range(len(xVars))]\n",
        "for i in range(FITS):\n",
        "\tmodel.fit(X, y)\n",
        "\tavg_importance2 += model.feature_importances_\n",
        "\n",
        "avg_importance2 /= FITS\n",
        "\n",
        "# summarize feature importance\n",
        "for i,v in enumerate(avg_importance2):\n",
        "\tprint(xVars[i], v)\n",
        "\n",
        "print(\"Intercept: \", model.predict([[0 for x in range(len(xVars))]])[0])\n",
        "print(\"R^2: \", model.score(X,y))"
      ],
      "execution_count": null,
      "outputs": []
    },
    {
      "cell_type": "code",
      "metadata": {
        "id": "91SPJh2RknG3"
      },
      "source": [
        "# Plotting random forest and decision tree feature importances side by side\n",
        "plt.xticks(rotation='vertical')\n",
        "plt.title(\"Decision Tree\")\n",
        "pyplot.bar(range(len(xVars)), avg_importance, tick_label=xVars)\n",
        "plt.show()\n",
        "plt.xticks(rotation='vertical')\n",
        "plt.title(\"Random Forest\")\n",
        "pyplot.bar(range(len(xVars)), avg_importance2, tick_label=xVars)\n",
        "plt.show()"
      ],
      "execution_count": null,
      "outputs": []
    },
    {
      "cell_type": "code",
      "metadata": {
        "id": "ufUY5gFU87l3"
      },
      "source": [
        "results = permutation_importance(model, X, y, scoring='neg_mean_squared_error')\n",
        "# get importance\n",
        "importance = results.importances_mean\n",
        "# summarize feature importance\n",
        "for i,v in enumerate(importance):\n",
        "\tprint(xVars[i], v)\n",
        "# plot feature importance\n",
        "plt.xticks(rotation='vertical')\n",
        "pyplot.bar(range(len(xVars)), importance, tick_label=xVars)\n",
        "pyplot.show()"
      ],
      "execution_count": null,
      "outputs": []
    }
  ]
}